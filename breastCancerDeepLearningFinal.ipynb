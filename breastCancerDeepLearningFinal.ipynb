{
  "nbformat": 4,
  "nbformat_minor": 0,
  "metadata": {
    "colab": {
      "name": "breastCancerDeepLearningFinal",
      "provenance": [],
      "collapsed_sections": [],
      "include_colab_link": true
    },
    "kernelspec": {
      "name": "python3",
      "display_name": "Python 3"
    },
    "accelerator": "GPU"
  },
  "cells": [
    {
      "cell_type": "markdown",
      "metadata": {
        "id": "view-in-github",
        "colab_type": "text"
      },
      "source": [
        "<a href=\"https://colab.research.google.com/github/rihemmaarefe/Cancer-prediction-deep-learning/blob/main/breastCancerDeepLearningFinal.ipynb\" target=\"_parent\"><img src=\"https://colab.research.google.com/assets/colab-badge.svg\" alt=\"Open In Colab\"/></a>"
      ]
    },
    {
      "cell_type": "code",
      "source": [
        " from google.colab import drive\n",
        "drive.mount('/content/drive')"
      ],
      "metadata": {
        "colab": {
          "base_uri": "https://localhost:8080/"
        },
        "id": "MCQ9jtXrNvch",
        "outputId": "fbbf64b8-f9ae-4512-9f32-c0b110a6cbc0"
      },
      "execution_count": null,
      "outputs": [
        {
          "output_type": "stream",
          "name": "stdout",
          "text": [
            "Drive already mounted at /content/drive; to attempt to forcibly remount, call drive.mount(\"/content/drive\", force_remount=True).\n"
          ]
        }
      ]
    },
    {
      "cell_type": "code",
      "metadata": {
        "id": "LvcZWwuGYCJO"
      },
      "source": [
        "import pandas as pd\n",
        "from matplotlib import pyplot as plt\n",
        "import seaborn as sns\n",
        "import numpy as np"
      ],
      "execution_count": null,
      "outputs": []
    },
    {
      "cell_type": "code",
      "metadata": {
        "id": "KA-qsHWMYMfm"
      },
      "source": [
        "df = pd.read_csv(\"/content/drive/MyDrive/deepLearning/wisc_bc_data.csv\")"
      ],
      "execution_count": null,
      "outputs": []
    },
    {
      "cell_type": "code",
      "metadata": {
        "colab": {
          "base_uri": "https://localhost:8080/"
        },
        "id": "O2THPyFpYUtw",
        "outputId": "fbf3d63d-aef8-4023-e401-de75fc8f68db"
      },
      "source": [
        "print(df.describe().T)"
      ],
      "execution_count": null,
      "outputs": [
        {
          "output_type": "stream",
          "name": "stdout",
          "text": [
            "                   count          mean  ...           75%           max\n",
            "id                 569.0  3.037183e+07  ...  8.813129e+06  9.113205e+08\n",
            "radius_mean        569.0  1.412729e+01  ...  1.578000e+01  2.811000e+01\n",
            "texture_mean       569.0  1.928965e+01  ...  2.180000e+01  3.928000e+01\n",
            "perimeter_mean     569.0  9.196903e+01  ...  1.041000e+02  1.885000e+02\n",
            "area_mean          569.0  6.548891e+02  ...  7.827000e+02  2.501000e+03\n",
            "smoothness_mean    569.0  9.636028e-02  ...  1.053000e-01  1.634000e-01\n",
            "compactness_mean   569.0  1.043410e-01  ...  1.304000e-01  3.454000e-01\n",
            "concavity_mean     569.0  8.879932e-02  ...  1.307000e-01  4.268000e-01\n",
            "points_mean        569.0  4.891915e-02  ...  7.400000e-02  2.012000e-01\n",
            "symmetry_mean      569.0  1.811619e-01  ...  1.957000e-01  3.040000e-01\n",
            "dimension_mean     569.0  6.279761e-02  ...  6.612000e-02  9.744000e-02\n",
            "radius_se          569.0  4.051721e-01  ...  4.789000e-01  2.873000e+00\n",
            "texture_se         569.0  1.216853e+00  ...  1.474000e+00  4.885000e+00\n",
            "perimeter_se       569.0  2.866059e+00  ...  3.357000e+00  2.198000e+01\n",
            "area_se            569.0  4.033708e+01  ...  4.519000e+01  5.422000e+02\n",
            "smoothness_se      569.0  7.040979e-03  ...  8.146000e-03  3.113000e-02\n",
            "compactness_se     569.0  2.547814e-02  ...  3.245000e-02  1.354000e-01\n",
            "concavity_se       569.0  3.189372e-02  ...  4.205000e-02  3.960000e-01\n",
            "points_se          569.0  1.179614e-02  ...  1.471000e-02  5.279000e-02\n",
            "symmetry_se        569.0  2.054230e-02  ...  2.348000e-02  7.895000e-02\n",
            "dimension_se       569.0  3.794904e-03  ...  4.558000e-03  2.984000e-02\n",
            "radius_worst       569.0  1.626919e+01  ...  1.879000e+01  3.604000e+01\n",
            "texture_worst      569.0  2.567722e+01  ...  2.972000e+01  4.954000e+01\n",
            "perimeter_worst    569.0  1.072612e+02  ...  1.254000e+02  2.512000e+02\n",
            "area_worst         569.0  8.805831e+02  ...  1.084000e+03  4.254000e+03\n",
            "smoothness_worst   569.0  1.323686e-01  ...  1.460000e-01  2.226000e-01\n",
            "compactness_worst  569.0  2.542650e-01  ...  3.391000e-01  1.058000e+00\n",
            "concavity_worst    569.0  2.721885e-01  ...  3.829000e-01  1.252000e+00\n",
            "points_worst       569.0  1.146062e-01  ...  1.614000e-01  2.910000e-01\n",
            "symmetry_worst     569.0  2.900756e-01  ...  3.179000e-01  6.638000e-01\n",
            "dimension_worst    569.0  8.394582e-02  ...  9.208000e-02  2.075000e-01\n",
            "\n",
            "[31 rows x 8 columns]\n"
          ]
        }
      ]
    },
    {
      "cell_type": "code",
      "metadata": {
        "colab": {
          "base_uri": "https://localhost:8080/"
        },
        "id": "vnjyJZThYqPg",
        "outputId": "8587b117-d449-45e6-fe61-5a2e3c5d8081"
      },
      "source": [
        "print(df.isnull().sum())\n",
        "#df = df.dropna()"
      ],
      "execution_count": null,
      "outputs": [
        {
          "output_type": "stream",
          "name": "stdout",
          "text": [
            "id                   0\n",
            "diagnosis            0\n",
            "radius_mean          0\n",
            "texture_mean         0\n",
            "perimeter_mean       0\n",
            "area_mean            0\n",
            "smoothness_mean      0\n",
            "compactness_mean     0\n",
            "concavity_mean       0\n",
            "points_mean          0\n",
            "symmetry_mean        0\n",
            "dimension_mean       0\n",
            "radius_se            0\n",
            "texture_se           0\n",
            "perimeter_se         0\n",
            "area_se              0\n",
            "smoothness_se        0\n",
            "compactness_se       0\n",
            "concavity_se         0\n",
            "points_se            0\n",
            "symmetry_se          0\n",
            "dimension_se         0\n",
            "radius_worst         0\n",
            "texture_worst        0\n",
            "perimeter_worst      0\n",
            "area_worst           0\n",
            "smoothness_worst     0\n",
            "compactness_worst    0\n",
            "concavity_worst      0\n",
            "points_worst         0\n",
            "symmetry_worst       0\n",
            "dimension_worst      0\n",
            "dtype: int64\n"
          ]
        }
      ]
    },
    {
      "cell_type": "code",
      "metadata": {
        "colab": {
          "base_uri": "https://localhost:8080/"
        },
        "id": "1EUWeZDgY0NA",
        "outputId": "682c2c0e-68fb-4543-8a83-2bda6f0d054a"
      },
      "source": [
        "#Rename Dataset to Label to make it easy to understand\n",
        "df = df.rename(columns={'diagnosis':'Label'})\n",
        "print(df.dtypes)"
      ],
      "execution_count": null,
      "outputs": [
        {
          "output_type": "stream",
          "name": "stdout",
          "text": [
            "id                     int64\n",
            "Label                 object\n",
            "radius_mean          float64\n",
            "texture_mean         float64\n",
            "perimeter_mean       float64\n",
            "area_mean            float64\n",
            "smoothness_mean      float64\n",
            "compactness_mean     float64\n",
            "concavity_mean       float64\n",
            "points_mean          float64\n",
            "symmetry_mean        float64\n",
            "dimension_mean       float64\n",
            "radius_se            float64\n",
            "texture_se           float64\n",
            "perimeter_se         float64\n",
            "area_se              float64\n",
            "smoothness_se        float64\n",
            "compactness_se       float64\n",
            "concavity_se         float64\n",
            "points_se            float64\n",
            "symmetry_se          float64\n",
            "dimension_se         float64\n",
            "radius_worst         float64\n",
            "texture_worst        float64\n",
            "perimeter_worst      float64\n",
            "area_worst           float64\n",
            "smoothness_worst     float64\n",
            "compactness_worst    float64\n",
            "concavity_worst      float64\n",
            "points_worst         float64\n",
            "symmetry_worst       float64\n",
            "dimension_worst      float64\n",
            "dtype: object\n"
          ]
        }
      ]
    },
    {
      "cell_type": "code",
      "metadata": {
        "colab": {
          "base_uri": "https://localhost:8080/",
          "height": 296
        },
        "id": "U-ZYTxkGZDdy",
        "outputId": "8f36a9a9-316d-4d64-d483-60e9f9fc6b1c"
      },
      "source": [
        "#Understand the data \n",
        "sns.countplot(x=\"Label\", data=df) #M - malignant   B - benign"
      ],
      "execution_count": null,
      "outputs": [
        {
          "output_type": "execute_result",
          "data": {
            "text/plain": [
              "<matplotlib.axes._subplots.AxesSubplot at 0x7f424dff92d0>"
            ]
          },
          "metadata": {},
          "execution_count": 28
        },
        {
          "output_type": "display_data",
          "data": {
            "image/png": "[encoded data removed]",
            "text/plain": [
              "<Figure size 432x288 with 1 Axes>"
            ]
          },
          "metadata": {
            "needs_background": "light"
          }
        }
      ]
    },
    {
      "cell_type": "code",
      "metadata": {
        "colab": {
          "base_uri": "https://localhost:8080/"
        },
        "id": "sHf0pr6mZ-sS",
        "outputId": "fec03c89-3cee-4918-d0f1-5d20975e3971"
      },
      "source": [
        "#1# Replace categorical values with numbers\n",
        "print(\"Distribution of data: \", df['Label'].value_counts())\n",
        "\n",
        "#2# Define the dependent variable that needs to be predicted (labels)\n",
        "y = df[\"Label\"].values\n",
        "print(\"Labels before encoding are: \", np.unique(y))\n",
        "\n",
        "#3# Encoding categorical data from text (B and M) to integers (0 and 1)\n",
        "from sklearn.preprocessing import LabelEncoder\n",
        "labelencoder = LabelEncoder()\n",
        "Y = labelencoder.fit_transform(y) # M=1 and B=0\n",
        "print(\"Labels after encoding are: \", np.unique(Y))"
      ],
      "execution_count": null,
      "outputs": [
        {
          "output_type": "stream",
          "name": "stdout",
          "text": [
            "Distribution of data:  B    357\n",
            "M    212\n",
            "Name: Label, dtype: int64\n",
            "Labels before encoding are:  ['B' 'M']\n",
            "Labels after encoding are:  [0 1]\n"
          ]
        }
      ]
    },
    {
      "cell_type": "markdown",
      "source": [
        "#1# Distribution of data:  B: benign    357  M: malignant    212\n",
        "\n",
        "#2# Labzls before encoding are:  ['B' 'M']\n",
        "\n",
        "#3# Labels after encoding are:  [0 1]\n"
      ],
      "metadata": {
        "id": "rSjYdoK1WBKh"
      }
    },
    {
      "cell_type": "code",
      "metadata": {
        "id": "k4yc60BVajj9"
      },
      "source": [
        "#Define x and normalize / scale values\n",
        "\n",
        "#Define the independent variables. Drop label and ID, and normalize other data\n",
        "\n",
        "\n",
        "X = df.drop(labels = [\"Label\", \"id\"], axis=1) \n",
        "print(X.describe().T) #Needs scaling"
      ],
      "execution_count": null,
      "outputs": []
    },
    {
      "cell_type": "code",
      "metadata": {
        "id": "IFVtqnTHbCS9"
      },
      "source": [
        "#Scale / normalize the values to bring them to similar range\n",
        "from sklearn.preprocessing import MinMaxScaler\n",
        "scaler = MinMaxScaler()\n",
        "scaler.fit(X)\n",
        "X = scaler.transform(X)\n",
        "print(X)  #Scaled values"
      ],
      "execution_count": null,
      "outputs": []
    },
    {
      "cell_type": "code",
      "metadata": {
        "colab": {
          "base_uri": "https://localhost:8080/"
        },
        "id": "HjCYDT5kbUTz",
        "outputId": "fbb71d2a-da36-4b36-be33-40db783f5a00"
      },
      "source": [
        "#Split data into train and test to verify accuracy after fitting the model. \n",
        "\n",
        "\n",
        "from sklearn.model_selection import train_test_split\n",
        "X_train, X_test, y_train, y_test = train_test_split(X, Y, test_size=0.25, random_state=42)\n",
        "print(\"Shape of training data is: \", X_train.shape)\n",
        "print(\"Shape of testing data is: \", X_test.shape)"
      ],
      "execution_count": null,
      "outputs": [
        {
          "output_type": "stream",
          "name": "stdout",
          "text": [
            "Shape of training data is:  (426, 30)\n",
            "Shape of testing data is:  (143, 30)\n"
          ]
        }
      ]
    },
    {
      "cell_type": "code",
      "metadata": {
        "id": "NJiToUeIbmNx"
      },
      "source": [
        "from keras.models import Sequential\n",
        "from keras.layers import Dense, Activation, Dropout\n",
        "import pickle\n"
      ],
      "execution_count": null,
      "outputs": []
    },
    {
      "cell_type": "code",
      "metadata": {
        "id": "d5KZ-t-Pb2-F"
      },
      "source": [
        "model = Sequential()\n",
        "model.add(Dense(16, input_dim=30, activation='relu')) \n",
        "model.add(Dropout(0.2))\n",
        "model.add(Dense(1)) \n",
        "model.add(Activation('sigmoid')) \n",
        " \n",
        "model.compile(loss='binary_crossentropy', optimizer='adam', metrics=['accuracy'])\n",
        "print(model.summary())\n",
        "\n",
        "# pickle.dump(model, open('classifier.pkl', 'wb') )\n",
        "model.save('/content/classifier.pkl')"
      ],
      "execution_count": null,
      "outputs": []
    },
    {
      "cell_type": "code",
      "metadata": {
        "id": "YhQev7Jmc3Z2"
      },
      "source": [
        "#Fit with no early stopping or other callbacks\n",
        "history = model.fit(X_train, y_train, verbose=1, epochs=100, batch_size=64,\n",
        "                    validation_data=(X_test, y_test))\n"
      ],
      "execution_count": null,
      "outputs": []
    },
    {
      "cell_type": "code",
      "metadata": {
        "id": "lRYHH_A3eeQB",
        "colab": {
          "base_uri": "https://localhost:8080/",
          "height": 284
        },
        "outputId": "01b36e17-0b99-457e-d1be-f1a83d401f93"
      },
      "source": [
        "# Predicting the Test set results\n",
        "y_pred = model.predict(X_test)\n",
        "y_pred = (y_pred > 0.5)\n",
        "\n",
        "# Making the Confusion Matrix\n",
        "from sklearn.metrics import confusion_matrix\n",
        "cm = confusion_matrix(y_test, y_pred)\n",
        "\n",
        "sns.heatmap(cm, annot=True)"
      ],
      "execution_count": null,
      "outputs": [
        {
          "output_type": "execute_result",
          "data": {
            "text/plain": [
              "<matplotlib.axes._subplots.AxesSubplot at 0x7f424dcf2550>"
            ]
          },
          "metadata": {},
          "execution_count": 36
        },
        {
          "output_type": "display_data",
          "data": {
            "image/png": "[encoded data removed]",
            "text/plain": [
              "<Figure size 432x288 with 2 Axes>"
            ]
          },
          "metadata": {
            "needs_background": "light"
          }
        }
      ]
    },
    {
      "cell_type": "code",
      "metadata": {
        "id": "tUtN6d9keAQn",
        "colab": {
          "base_uri": "https://localhost:8080/",
          "height": 573
        },
        "outputId": "5f0191ec-75d9-42ac-871a-10724c053a34"
      },
      "source": [
        "#plot the training and validation accuracy and loss at each epoch\n",
        "\n",
        "loss = history.history['loss']\n",
        "val_loss = history.history['val_loss']\n",
        "epochs = range(1, len(loss) + 1)\n",
        "plt.plot(epochs, loss, 'y', label='Training loss')\n",
        "plt.plot(epochs, val_loss, 'r', label='Validation loss')\n",
        "plt.title('Training and validation loss')\n",
        "plt.xlabel('Epochs')\n",
        "plt.ylabel('Loss')\n",
        "plt.legend()\n",
        "plt.show()\n",
        "\n",
        "\n",
        "acc = history.history['accuracy']  #Use accuracy if acc doesn't work\n",
        "val_acc = history.history['val_accuracy']  #Use val_accuracy if acc doesn't work\n",
        "plt.plot(epochs, acc, 'y', label='Training acc')\n",
        "plt.plot(epochs, val_acc, 'r', label='Validation acc')\n",
        "plt.title('Training and validation accuracy')\n",
        "plt.xlabel('Epochs')\n",
        "plt.ylabel('Accuracy')\n",
        "plt.legend()\n",
        "plt.show()"
      ],
      "execution_count": null,
      "outputs": [
        {
          "output_type": "display_data",
          "data": {
            "image/png": "[encoded data removed]",
            "text/plain": [
              "<Figure size 432x288 with 1 Axes>"
            ]
          },
          "metadata": {
            "needs_background": "light"
          }
        },
        {
          "output_type": "display_data",
          "data": {
            "image/png": "[encoded data removed]",
            "text/plain": [
              "<Figure size 432x288 with 1 Axes>"
            ]
          },
          "metadata": {
            "needs_background": "light"
          }
        }
      ]
    },
    {
      "cell_type": "code",
      "source": [
        "from tensorflow.keras.models import load_model"
      ],
      "metadata": {
        "id": "vE6C3EljJY2k"
      },
      "execution_count": null,
      "outputs": []
    },
    {
      "cell_type": "code",
      "source": [
        "reconstructed_model = keras.models.load_model(\"/content/classifier.pkl\")"
      ],
      "metadata": {
        "id": "m4Hj3YZhINhN"
      },
      "execution_count": null,
      "outputs": []
    },
    {
      "cell_type": "code",
      "source": [
        "reconstructed_model.predict([[21.37, 15.1, 141.3, 1386, 0.1001, 0.1515, 0.1932, 0.1255, 0.1973, 0.06183, 0.3414, 1.309, 2.407, 39.06, 0.004426, 0.02675, 0.03437, 0.01343, 0.01675, 0.004367, 22.69, 21.48, 152.1, 1535, 0.1192, 0.284, 0.4024, 0.1966, 0.273, 0.08666]])"
      ],
      "metadata": {
        "id": "KhHyZCLsQO16",
        "colab": {
          "base_uri": "https://localhost:8080/"
        },
        "outputId": "39957064-1af0-4d57-c5e5-024cc93bc671"
      },
      "execution_count": null,
      "outputs": [
        {
          "output_type": "execute_result",
          "data": {
            "text/plain": [
              "array([[1.]], dtype=float32)"
            ]
          },
          "metadata": {},
          "execution_count": 43
        }
      ]
    },
    {
      "cell_type": "code",
      "source": [
        "row = [21.37, 15.1, 141.3, 1386, 0.1001, 0.1515, 0.1932, 0.1255, 0.1973, 0.06183, 0.3414, 1.309, 2.407, 39.06, 0.004426, 0.02675, 0.03437, 0.01343, 0.01675, 0.004367, 22.69, 21.48, 152.1, 1535, 0.1192, 0.284, 0.4024, 0.1966, 0.273, 0.08666]\n",
        "yhat = reconstructed_model.predict([row])\n",
        "print('Predicted Class: %d' % yhat[0])"
      ],
      "metadata": {
        "id": "eBAHtrcIIDSc"
      },
      "execution_count": null,
      "outputs": []
    },
    {
      "cell_type": "code",
      "source": [
        "import numpy as np\n",
        "from tensorflow.keras.models import load_model\n",
        "from tensorflow import keras\n",
        "\n",
        "model = keras.models.load_model(\"/content/classifier.pkl\", compile = True)\n",
        "\n",
        "\n",
        "test_input = np.array([12.32, 12.39, 78.85, 464.1, 0.1028, 0.06981, 0.03987, 0.037, 0.1959, 0.05955, 0.236, 0.6656, 1.67, 17.43, 0.008045, 0.0118, 0.01683, 0.01241, 0.01924, 0.002248, 13.5, 15.64, 86.97, 549.1, 0.1385, 0.1266, 0.1242, 0.09391, 0.2827, 0.06771])    \n",
        "test_input = test_input.reshape(1, -1)\n",
        "\n",
        "new_data_scaled = scaler.transform(test_input)\n",
        "new_data_scaled = test_input[:,0].astype(int)\n",
        "\n",
        "samples_to_predict = []\n",
        "\n",
        "for sample in new_data_scaled:\n",
        "  # Add sample to array for prediction\n",
        "  samples_to_predict.append(X_train[sample])\n"
      ],
      "metadata": {
        "id": "WdF7dKS3S65m"
      },
      "execution_count": null,
      "outputs": []
    },
    {
      "cell_type": "code",
      "source": [
        "# Convert into Numpy array\n",
        "samples_to_predict = np.array(samples_to_predict)\n",
        "print(samples_to_predict.shape)"
      ],
      "metadata": {
        "id": "gM0-_tXhj3vs",
        "colab": {
          "base_uri": "https://localhost:8080/"
        },
        "outputId": "c4ca219b-b3f8-43cd-dfa3-9e935fa2eb1f"
      },
      "execution_count": null,
      "outputs": [
        {
          "output_type": "stream",
          "name": "stdout",
          "text": [
            "(1, 30)\n"
          ]
        }
      ]
    },
    {
      "cell_type": "code",
      "source": [
        "# Generate predictions for samples\n",
        "predictions = model.predict(samples_to_predict)\n",
        "print(\"you can be affected by breast cancer by: \", predictions *100 , \"%\")"
      ],
      "metadata": {
        "id": "14uuRtCYj5Sx",
        "colab": {
          "base_uri": "https://localhost:8080/"
        },
        "outputId": "19af261f-7dd1-413f-82dd-a969dfd1bc71"
      },
      "execution_count": null,
      "outputs": [
        {
          "output_type": "stream",
          "name": "stdout",
          "text": [
            "you can be affected by breast cancer by:  [[50.73133]] %\n"
          ]
        }
      ]
    },
    {
      "cell_type": "code",
      "source": [
        "def calc_mean_importance(importance_df_list):\n",
        "    mean_importance = np.mean(\n",
        "        np.array([df['importance'].values for df in importance_df_list]), axis=0)\n",
        "    mean_df = importance_df_list[0].copy()\n",
        "    mean_df['importance'] = mean_importance\n",
        "    return mean_df"
      ],
      "metadata": {
        "id": "b2FW-ftX3azd"
      },
      "execution_count": null,
      "outputs": []
    },
    {
      "cell_type": "code",
      "source": [
        "if DO_FEAT_IMP:\n",
        "    mean_gain_df = calc_mean_importance(gain_importance_list)\n",
        "    plot_importance(mean_gain_df, title='Model feature importance by gain')\n",
        "    mean_gain_df = mean_gain_df.reset_index().rename(columns={'index': 'feature_names'})\n",
        "    mean_gain_df.to_csv('gain_importance_mean.csv', index=False)"
      ],
      "metadata": {
        "id": "81g9w8VB3cGM"
      },
      "execution_count": null,
      "outputs": []
    },
    {
      "cell_type": "code",
      "source": [
        "if DO_FEAT_IMP:\n",
        "    mean_split_df = calc_mean_importance(split_importance_list)\n",
        "    plot_importance(mean_split_df, title='Model feature importance by split')\n",
        "    mean_split_df = mean_split_df.reset_index().rename(columns={'index': 'feature_names'})\n",
        "    mean_split_df.to_csv('split_importance_mean.csv', index=False)"
      ],
      "metadata": {
        "id": "p3TNR3_n3jUo"
      },
      "execution_count": null,
      "outputs": []
    }
  ]
}